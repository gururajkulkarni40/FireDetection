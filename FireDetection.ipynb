{
  "nbformat": 4,
  "nbformat_minor": 0,
  "metadata": {
    "colab": {
      "name": "FireDetection.ipynb",
      "provenance": [],
      "authorship_tag": "ABX9TyMu34EPnNr617JnJaKYl6GB",
      "include_colab_link": true
    },
    "kernelspec": {
      "name": "python3",
      "display_name": "Python 3"
    },
    "language_info": {
      "name": "python"
    },
    "accelerator": "GPU"
  },
  "cells": [
    {
      "cell_type": "markdown",
      "metadata": {
        "id": "view-in-github",
        "colab_type": "text"
      },
      "source": [
        "<a href=\"https://colab.research.google.com/github/gururajkulkarni40/FireDetection/blob/main/FireDetection.ipynb\" target=\"_parent\"><img src=\"https://colab.research.google.com/assets/colab-badge.svg\" alt=\"Open In Colab\"/></a>"
      ]
    },
    {
      "cell_type": "code",
      "metadata": {
        "id": "1X8h6ny0RDlV"
      },
      "source": [
        "! pip install tensorflow\n"
      ],
      "execution_count": null,
      "outputs": []
    },
    {
      "cell_type": "code",
      "metadata": {
        "id": "bmlSBw_mlcC_"
      },
      "source": [
        "import tensorflow as tf\n",
        "from tensorflow.keras.preprocessing.image import ImageDataGenerator\n",
        "\n"
      ],
      "execution_count": null,
      "outputs": []
    },
    {
      "cell_type": "code",
      "metadata": {
        "colab": {
          "base_uri": "https://localhost:8080/",
          "height": 36
        },
        "id": "yu1EyX6YUpKr",
        "outputId": "3b7d4631-3fb7-4e39-eccb-367055f58a2a"
      },
      "source": [
        "tf.__version__"
      ],
      "execution_count": null,
      "outputs": [
        {
          "output_type": "execute_result",
          "data": {
            "application/vnd.google.colaboratory.intrinsic+json": {
              "type": "string"
            },
            "text/plain": [
              "'2.4.1'"
            ]
          },
          "metadata": {
            "tags": []
          },
          "execution_count": 3
        }
      ]
    },
    {
      "cell_type": "code",
      "metadata": {
        "colab": {
          "base_uri": "https://localhost:8080/"
        },
        "id": "XSRcBCDHTovV",
        "outputId": "cdc9f3b9-709f-4ecb-a9ac-a7a4c9af8336"
      },
      "source": [
        "tf.test.is_gpu_available()"
      ],
      "execution_count": null,
      "outputs": [
        {
          "output_type": "stream",
          "text": [
            "WARNING:tensorflow:From <ipython-input-4-17bb7203622b>:1: is_gpu_available (from tensorflow.python.framework.test_util) is deprecated and will be removed in a future version.\n",
            "Instructions for updating:\n",
            "Use `tf.config.list_physical_devices('GPU')` instead.\n"
          ],
          "name": "stdout"
        },
        {
          "output_type": "execute_result",
          "data": {
            "text/plain": [
              "True"
            ]
          },
          "metadata": {
            "tags": []
          },
          "execution_count": 4
        }
      ]
    },
    {
      "cell_type": "markdown",
      "metadata": {
        "id": "L5Tn-pGIktEK"
      },
      "source": [
        "Data Augumentation\n",
        "[link text](https://)"
      ]
    },
    {
      "cell_type": "code",
      "metadata": {
        "id": "dhO4sYaImLip"
      },
      "source": [
        "# very important preprocessing is resizing and rescaling bcoz very high definition pic (every image reduce / 255)"
      ],
      "execution_count": null,
      "outputs": []
    },
    {
      "cell_type": "code",
      "metadata": {
        "id": "sOGOC2Xzk0P1"
      },
      "source": [
        "training_datagenerator=ImageDataGenerator(rescale=1./255,horizontal_flip=True,vertical_flip=True,shear_range=0.2,zoom_range=0.2,width_shift_range=0.2,height_shift_range=0.2,validation_split=0.1)"
      ],
      "execution_count": null,
      "outputs": []
    },
    {
      "cell_type": "code",
      "metadata": {
        "id": "13OaA17cVOsC"
      },
      "source": [
        "from google.colab import drive"
      ],
      "execution_count": null,
      "outputs": []
    },
    {
      "cell_type": "code",
      "metadata": {
        "id": "Q2bhZZSrWYBR",
        "colab": {
          "base_uri": "https://localhost:8080/"
        },
        "outputId": "708234ca-d750-4bc5-8ffb-5cf1452c83ce"
      },
      "source": [
        "drive.mount('/content/drive')"
      ],
      "execution_count": null,
      "outputs": [
        {
          "output_type": "stream",
          "text": [
            "Mounted at /content/drive\n"
          ],
          "name": "stdout"
        }
      ]
    },
    {
      "cell_type": "code",
      "metadata": {
        "id": "CMF3bcKXoW0H",
        "colab": {
          "base_uri": "https://localhost:8080/"
        },
        "outputId": "e7a84555-ca99-4fa1-a114-9d5443ce1619"
      },
      "source": [
        "batch_size=16\n",
        "train = training_datagenerator.flow_from_directory('/content/drive/MyDrive/FireDetect/Training Data',target_size=(256,256),color_mode='rgb',class_mode='binary',batch_size=16,subset='training')\n",
        "\n",
        "validation = training_datagenerator.flow_from_directory('/content/drive/MyDrive/FireDetect/Training Data',target_size=(256,256),color_mode='rgb',class_mode='binary',batch_size=16,subset='validation')"
      ],
      "execution_count": null,
      "outputs": [
        {
          "output_type": "stream",
          "text": [
            "Found 264 images belonging to 3 classes.\n",
            "Found 28 images belonging to 3 classes.\n"
          ],
          "name": "stdout"
        }
      ]
    },
    {
      "cell_type": "markdown",
      "metadata": {
        "id": "jCN-RFvqsUQl"
      },
      "source": [
        "dividing the data into training and validation"
      ]
    },
    {
      "cell_type": "markdown",
      "metadata": {
        "id": "YOvUeFQ2-1of"
      },
      "source": [
        "# Initializing CNN"
      ]
    },
    {
      "cell_type": "code",
      "metadata": {
        "id": "2Lsfdgep8_ou"
      },
      "source": [
        "cnn=tf.keras.models.Sequential()"
      ],
      "execution_count": null,
      "outputs": []
    },
    {
      "cell_type": "markdown",
      "metadata": {
        "id": "e11IqzJC-x2p"
      },
      "source": [
        "# adding first layer"
      ]
    },
    {
      "cell_type": "code",
      "metadata": {
        "id": "CUzQrq0v-EKl"
      },
      "source": [
        "cnn.add(tf.keras.layers.Conv2D(filters=32,kernel_size=3,padding='same',activation='relu',input_shape=[224,224,3]))\n",
        "cnn.add(tf.keras.layers.MaxPool2D(pool_size=2))"
      ],
      "execution_count": null,
      "outputs": []
    },
    {
      "cell_type": "markdown",
      "metadata": {
        "id": "33iZAe6f-9KJ"
      },
      "source": [
        "# adding second layer"
      ]
    },
    {
      "cell_type": "code",
      "metadata": {
        "id": "m1uv6xzI-6B_"
      },
      "source": [
        "cnn.add(tf.keras.layers.Conv2D(filters=64,kernel_size=3,padding='same',activation='relu'))\n",
        "cnn.add(tf.keras.layers.MaxPool2D(pool_size=2))"
      ],
      "execution_count": null,
      "outputs": []
    },
    {
      "cell_type": "markdown",
      "metadata": {
        "id": "nbI2MZij_Cgs"
      },
      "source": [
        "# adding third layer"
      ]
    },
    {
      "cell_type": "code",
      "metadata": {
        "id": "wuOiu0GQ_Eu5"
      },
      "source": [
        "cnn.add(tf.keras.layers.Conv2D(filters=256,kernel_size=3,padding='same',activation='relu'))\n",
        "cnn.add(tf.keras.layers.MaxPool2D(pool_size=2))"
      ],
      "execution_count": null,
      "outputs": []
    },
    {
      "cell_type": "markdown",
      "metadata": {
        "id": "buPRPIHi_H2f"
      },
      "source": [
        "# Flattening"
      ]
    },
    {
      "cell_type": "code",
      "metadata": {
        "id": "tv1Tth-A_Kbr"
      },
      "source": [
        "cnn.add(tf.keras.layers.Flatten())"
      ],
      "execution_count": null,
      "outputs": []
    },
    {
      "cell_type": "markdown",
      "metadata": {
        "id": "zA7-b4VF_Nb3"
      },
      "source": [
        "# Fully connected layer"
      ]
    },
    {
      "cell_type": "code",
      "metadata": {
        "id": "k3qwveLx_Mvy"
      },
      "source": [
        "cnn.add(tf.keras.layers.Dense(units=128,activation='relu'))"
      ],
      "execution_count": null,
      "outputs": []
    },
    {
      "cell_type": "markdown",
      "metadata": {
        "id": "JUumUPpt_RyQ"
      },
      "source": [
        "# Output layers"
      ]
    },
    {
      "cell_type": "code",
      "metadata": {
        "id": "XjOp8Ze__SV4"
      },
      "source": [
        "cnn.add(tf.keras.layers.Dense(units=1,activation='sigmoid'))"
      ],
      "execution_count": null,
      "outputs": []
    },
    {
      "cell_type": "code",
      "metadata": {
        "id": "la8nNZtn_VcT"
      },
      "source": [
        "cnn.summary()"
      ],
      "execution_count": null,
      "outputs": []
    },
    {
      "cell_type": "markdown",
      "metadata": {
        "id": "R4-LLDXj_ZjU"
      },
      "source": [
        "\n",
        "Time to Train our CNN Model\n",
        "Compile and Train¶\n"
      ]
    },
    {
      "cell_type": "code",
      "metadata": {
        "id": "RDgbeybm_akY"
      },
      "source": [
        "checkpoint=tf.keras.callbacks.ModelCheckpoint('/content/drive/MyDrive/FireDetect/Training Data/models/Fire_and_Smoke.h5',\n",
        "                                             monitor='val_loss',mode=\"min\",\n",
        "                                             save_best_only=True)\n",
        "callbacks=checkpoint"
      ],
      "execution_count": null,
      "outputs": []
    },
    {
      "cell_type": "code",
      "metadata": {
        "id": "JRxJJzAKGLqn"
      },
      "source": [
        "cnn.compile(optimizer='Adam',loss='binary_crossentropy',metrics=['accuracy'])\n",
        "cnn.fit_generator(train,validation_data=validation,epochs=1,\n",
        "                  steps_per_epoch=train.samples//batch_size,\n",
        "                  validation_steps=validation.samples//batch_size,\n",
        "                  callbacks=callbacks \n",
        "                 )"
      ],
      "execution_count": null,
      "outputs": []
    },
    {
      "cell_type": "markdown",
      "metadata": {
        "id": "rNxTw1PpEDbd"
      },
      "source": [
        "Lets Test It"
      ]
    },
    {
      "cell_type": "code",
      "metadata": {
        "id": "E92RaL6JEBPQ"
      },
      "source": [
        "from tensorflow.keras.models import load_model\n",
        "cnn=load_model('/content/drive/MyDrive/FireDetect/Training Data/models/Fire_and_Smoke.h5')"
      ],
      "execution_count": null,
      "outputs": []
    },
    {
      "cell_type": "code",
      "metadata": {
        "colab": {
          "base_uri": "https://localhost:8080/"
        },
        "id": "D8cULMbMCUTj",
        "outputId": "ed529685-b9f7-4999-c37e-e1d79e92f564"
      },
      "source": [
        "cnn.summary()"
      ],
      "execution_count": null,
      "outputs": [
        {
          "output_type": "stream",
          "text": [
            "Model: \"sequential_1\"\n",
            "_________________________________________________________________\n",
            "Layer (type)                 Output Shape              Param #   \n",
            "=================================================================\n",
            "conv2d_3 (Conv2D)            (None, 224, 224, 32)      896       \n",
            "_________________________________________________________________\n",
            "max_pooling2d_2 (MaxPooling2 (None, 112, 112, 32)      0         \n",
            "_________________________________________________________________\n",
            "conv2d_4 (Conv2D)            (None, 112, 112, 32)      9248      \n",
            "_________________________________________________________________\n",
            "max_pooling2d_3 (MaxPooling2 (None, 56, 56, 32)        0         \n",
            "_________________________________________________________________\n",
            "flatten_1 (Flatten)          (None, 100352)            0         \n",
            "_________________________________________________________________\n",
            "dense_2 (Dense)              (None, 128)               12845184  \n",
            "_________________________________________________________________\n",
            "dense_3 (Dense)              (None, 1)                 129       \n",
            "=================================================================\n",
            "Total params: 12,855,457\n",
            "Trainable params: 12,855,457\n",
            "Non-trainable params: 0\n",
            "_________________________________________________________________\n"
          ],
          "name": "stdout"
        }
      ]
    },
    {
      "cell_type": "code",
      "metadata": {
        "id": "uOiTvCLdEzJU"
      },
      "source": [
        "from tensorflow.keras.preprocessing import image\n",
        "import numpy as np\n",
        "import matplotlib.pyplot as plt\n",
        "import PIL"
      ],
      "execution_count": null,
      "outputs": []
    },
    {
      "cell_type": "code",
      "metadata": {
        "id": "MC6JARB6E4Jr"
      },
      "source": [
        "image_for_testing='/content/drive/MyDrive/FireDetect/Training Data/Fire/5.png'"
      ],
      "execution_count": null,
      "outputs": []
    },
    {
      "cell_type": "code",
      "metadata": {
        "colab": {
          "base_uri": "https://localhost:8080/",
          "height": 338
        },
        "id": "WbFQ1JCdFD_B",
        "outputId": "0000a4d0-2513-4b3b-9715-06d4fa56744a"
      },
      "source": [
        "image_for_testing='/content/drive/MyDrive/FireDetect/Training Data/Fire/fire-63.1076606855.png'\n",
        "test_image=image.load_img(image_for_testing,target_size=(224,224))\n",
        "test_image=image.img_to_array(test_image)\n",
        "test_image=test_image/255\n",
        "test_image=np.expand_dims(test_image,axis=0)\n",
        "result=cnn.predict_classes(test_image)\n",
        "\n",
        "Catagories=['Fire','Smoke']\n",
        "\n",
        "image_show=PIL.Image.open(image_for_testing)\n",
        "plt.imshow(image_show)\n",
        "\n",
        "plt.title(Catagories[int(result[0][0])])\n",
        "plt.show()"
      ],
      "execution_count": null,
      "outputs": [
        {
          "output_type": "stream",
          "text": [
            "/usr/local/lib/python3.7/dist-packages/tensorflow/python/keras/engine/sequential.py:450: UserWarning: `model.predict_classes()` is deprecated and will be removed after 2021-01-01. Please use instead:* `np.argmax(model.predict(x), axis=-1)`,   if your model does multi-class classification   (e.g. if it uses a `softmax` last-layer activation).* `(model.predict(x) > 0.5).astype(\"int32\")`,   if your model does binary classification   (e.g. if it uses a `sigmoid` last-layer activation).\n",
            "  warnings.warn('`model.predict_classes()` is deprecated and '\n"
          ],
          "name": "stderr"
        },
        {
          "output_type": "display_data",
          "data": {
            "image/png": "[encoded data removed]",
            "text/plain": [
              "<Figure size 432x288 with 1 Axes>"
            ]
          },
          "metadata": {
            "tags": [],
            "needs_background": "light"
          }
        }
      ]
    }
  ]
}